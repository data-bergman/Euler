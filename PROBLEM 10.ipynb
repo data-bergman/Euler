{
 "cells": [
  {
   "cell_type": "code",
   "execution_count": null,
   "metadata": {
    "collapsed": true
   },
   "outputs": [],
   "source": [
    "import math\n",
    "p=1\n",
    "s={}\n",
    "s[0]=2\n",
    "s[1]=3\n",
    "m=4\n",
    "n=0\n",
    "y=5\n",
    "while m<20000000:\n",
    "    while s[n] <= math.sqrt(m) and m % s[n] != 0:\n",
    "        n += 1\n",
    "        if s[n] > math.sqrt(m):\n",
    "            p = p+1\n",
    "            s[p] = m\n",
    "            y += m\n",
    "            print(p,s[p])\n",
    "    m = m + 1\n",
    "    n=0\n",
    "print(y)"
   ]
  }
 ],
 "metadata": {
  "kernelspec": {
   "display_name": "Python 2",
   "language": "python",
   "name": "python2"
  },
  "language_info": {
   "codemirror_mode": {
    "name": "ipython",
    "version": 2
   },
   "file_extension": ".py",
   "mimetype": "text/x-python",
   "name": "python",
   "nbconvert_exporter": "python",
   "pygments_lexer": "ipython2",
   "version": "2.7.6"
  }
 },
 "nbformat": 4,
 "nbformat_minor": 0
}
